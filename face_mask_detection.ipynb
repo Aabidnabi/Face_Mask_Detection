{
  "nbformat": 4,
  "nbformat_minor": 0,
  "metadata": {
    "accelerator": "GPU",
    "colab": {
      "name": "face_mask_detection.ipynb",
      "provenance": [],
      "collapsed_sections": []
    },
    "kernelspec": {
      "display_name": "Python 3",
      "name": "python3"
    },
    "language_info": {
      "name": "python"
    }
  },
  "cells": [
    {
      "cell_type": "code",
      "metadata": {
        "id": "J1yX1EwjQTFX"
      },
      "source": [
        "from tensorflow.keras.models import Sequential\n",
        "from tensorflow.keras.layers import Conv2D, MaxPooling2D, Dropout, Flatten, Dense\n",
        "from tensorflow.keras.optimizers import Adam\n",
        "from tensorflow.keras.preprocessing.image import ImageDataGenerator\n",
        "import numpy as np\n",
        "import matplotlib.pyplot as plt"
      ],
      "execution_count": null,
      "outputs": []
    },
    {
      "cell_type": "code",
      "metadata": {
        "id": "e1DQczrGVyql"
      },
      "source": [
        "import os\n",
        "os.environ['KAGGLE_USERNAME' ]='aabidnabitantry'\n",
        "os.environ['KAGGLE_KEY']='5a631a8ee310752e3cd294d9b84be216'"
      ],
      "execution_count": null,
      "outputs": []
    },
    {
      "cell_type": "code",
      "metadata": {
        "id": "2EqtT_XAWiwJ"
      },
      "source": [
        "! kaggle datasets download -d prithwirajmitra/covid-face-mask-detection-dataset"
      ],
      "execution_count": null,
      "outputs": []
    },
    {
      "cell_type": "code",
      "metadata": {
        "id": "jQoaB_2nXSyc"
      },
      "source": [
        "! unzip covid-face-mask-detection-dataset.zip"
      ],
      "execution_count": null,
      "outputs": []
    },
    {
      "cell_type": "code",
      "metadata": {
        "id": "ERuiNepzXt39"
      },
      "source": [
        "main_dir ='/content/New Masks Dataset'\n",
        "train_dir = os.path.join(main_dir, 'Train')\n",
        "test_dir = os.path.join(main_dir, 'Test')\n",
        "valid_dir = os.path.join(main_dir, 'Validation')\n",
        " \n",
        "train_mask_dir = os.path.join(train_dir, 'Mask')\n",
        "train_nomask_dir = os.path.join(train_dir, 'Non Mask')"
      ],
      "execution_count": null,
      "outputs": []
    },
    {
      "cell_type": "code",
      "metadata": {
        "id": "ZzarB5Vib_qT"
      },
      "source": [
        "train_mask_names = os.listdir(train_mask_dir)\n",
        "print(train_mask_names[:10])\n",
        "train_nomask_names = os.listdir(train_nomask_dir)\n",
        "print(train_nomask_names[:10])"
      ],
      "execution_count": null,
      "outputs": []
    },
    {
      "cell_type": "code",
      "metadata": {
        "id": "Px7YXoWzhMfD"
      },
      "source": [
        "import matplotlib.image as mpimg\n",
        "nrows = 4\n",
        "ncols = 4\n",
        "plt.figure(figsize=(12,12))\n",
        " \n",
        "mask_pic = []\n",
        "for i in train_mask_names[0:8]:\n",
        "  mask_pic.append(os.path.join(train_mask_dir,i))\n",
        " \n",
        "  nomask_pic = []\n",
        "for i in train_nomask_names[0:8]:\n",
        "  nomask_pic.append(os.path.join(train_nomask_dir,i))\n",
        " \n",
        "  print(mask_pic)\n",
        "  print(nomask_pic)\n",
        " \n",
        "  merged_list = mask_pic+nomask_pic\n",
        " \n",
        "  for i in range(0,len(merged_list)):\n",
        "    data = merged_list[i].split('/',4)[4]\n",
        "    sp = plt.subplot(nrows,ncols,i+1)\n",
        "    sp.axis('off')\n",
        "    image = mpimg.imread(merged_list[i])\n",
        "    sp.set_title(data,fontsize=10)\n",
        "    plt.imshow(image,cmap='gray')\n",
        " \n",
        "    plt.show()"
      ],
      "execution_count": null,
      "outputs": []
    },
    {
      "cell_type": "code",
      "metadata": {
        "id": "mJKcQIeEqdpY"
      },
      "source": [
        "train_datagen = ImageDataGenerator(rescale=1./255,\n",
        "                                  zoom_range = 0.2,\n",
        "                                  rotation_range = 40,\n",
        "                                  horizontal_flip = True,\n",
        "                                  )\n",
        "test_datagen = ImageDataGenerator(rescale=1./255)\n",
        "validation_datagen = ImageDataGenerator(rescale=1./255)\n",
        " \n",
        "train_generator = train_datagen.flow_from_directory(train_dir,\n",
        "                                                   target_size=(150,150),\n",
        "                                                   batch_size =32,                                            \n",
        "                                                   class_mode = 'binary'\n",
        "                                                   )\n",
        "test_generator = test_datagen.flow_from_directory(test_dir,\n",
        "                                                   target_size=(150,150),\n",
        "                                                   batch_size =32,                                            \n",
        "                                                   class_mode = 'binary'\n",
        "                                                   )\n",
        "valid_generator = validation_datagen.flow_from_directory(valid_dir,\n",
        "                                                   target_size=(150,150),\n",
        "                                                   batch_size =32,                                            \n",
        "                                                   class_mode = 'binary'\n",
        "                                                   )"
      ],
      "execution_count": null,
      "outputs": []
    },
    {
      "cell_type": "code",
      "metadata": {
        "id": "N6PUh-hVq_DS"
      },
      "source": [
        "train_generator.class_indices"
      ],
      "execution_count": null,
      "outputs": []
    },
    {
      "cell_type": "code",
      "metadata": {
        "id": "1dR06D6srQC6"
      },
      "source": [
        "train_generator.image_shape"
      ],
      "execution_count": null,
      "outputs": []
    },
    {
      "cell_type": "markdown",
      "metadata": {
        "id": "zzzQG4vryiVN"
      },
      "source": [
        ""
      ]
    },
    {
      "cell_type": "code",
      "metadata": {
        "id": "iqVPr1tyzGJd"
      },
      "source": [
        ""
      ],
      "execution_count": null,
      "outputs": []
    },
    {
      "cell_type": "code",
      "metadata": {
        "id": "UkpLJzUcykKq"
      },
      "source": [
        "model = Sequential()\n",
        "model.add(Conv2D(32,(3,3),padding='SAME',activation='relu',input_shape=(150,150,3)))\n",
        "model.add(MaxPooling2D(pool_size=(2,2))) \n",
        "model.add(Dropout(0.5))\n",
        " \n",
        "model.add(Conv2D(64,(3,3),padding='SAME',activation='relu'))\n",
        "model.add(MaxPooling2D(pool_size=(2,2)))\n",
        "model.add(Dropout(0.5))\n",
        " \n",
        "model.add(Flatten())\n",
        " \n",
        "model.add(Dense(256,activation='relu'))\n",
        "model.add(Dropout(0.5))\n",
        "model.add(Dense(1,activation='sigmoid'))\n",
        "model.summary()"
      ],
      "execution_count": null,
      "outputs": []
    },
    {
      "cell_type": "code",
      "metadata": {
        "id": "HM3Culif0F1B"
      },
      "source": [
        "model.compile(Adam(lr=0.001),loss='binary_crossentropy',metrics=['accuracy'])"
      ],
      "execution_count": null,
      "outputs": []
    },
    {
      "cell_type": "code",
      "metadata": {
        "colab": {
          "background_save": true
        },
        "id": "1iJoQf0C1zqR"
      },
      "source": [
        "history = model.fit(train_generator,\n",
        "                    epochs = 30,\n",
        "                    validation_data = valid_generator)"
      ],
      "execution_count": null,
      "outputs": []
    },
    {
      "cell_type": "code",
      "metadata": {
        "id": "Sd3YtvtZ3uh-"
      },
      "source": [
        "history.history.keys()"
      ],
      "execution_count": null,
      "outputs": []
    },
    {
      "cell_type": "code",
      "metadata": {
        "id": "KrJCE3u736ok"
      },
      "source": [
        "plt.plot(history.history['loss'])\n",
        "plt.plot(history.history['val_loss'])\n",
        "plt.legend(['training','validation'])\n",
        "plt.title('Training and validation loss')\n",
        "plt.xlabel('epoch')"
      ],
      "execution_count": null,
      "outputs": []
    },
    {
      "cell_type": "code",
      "metadata": {
        "id": "Gexda5MP5aWn"
      },
      "source": [
        "test_loss , test_acc = model.evaluate"
      ],
      "execution_count": null,
      "outputs": []
    },
    {
      "cell_type": "code",
      "metadata": {
        "id": "TuXzMAdV48CN"
      },
      "source": [
        "plt.plot(history.history['accuracy'])\n",
        "plt.plot(history.history['val_accuracy'])\n",
        "plt.legend(['training','validation'])\n",
        "plt.title('Training and validation accuracy')\n",
        "plt.xlabel('epoch')"
      ],
      "execution_count": null,
      "outputs": []
    },
    {
      "cell_type": "code",
      "metadata": {
        "id": "AsG2RdQn7Ej6"
      },
      "source": [
        "test_loss , test_acc = model.evaluate(test_generator)\n",
        "print('test loss:{} test acc:{}'.format(test_loss,test_acc))"
      ],
      "execution_count": null,
      "outputs": []
    },
    {
      "cell_type": "code",
      "metadata": {
        "id": "eGfvHI_n8Gt6"
      },
      "source": [
        "from google.colab import files\n",
        "from keras.preprocessing import image\n",
        "uploaded = files.upload()\n",
        "for fname in uploaded.keys():\n",
        "  img_path ='/content/'+fname\n",
        "  img = image.load_img(img_path,target_size=(150,150))\n",
        "  images = image.img_to_array(img)\n",
        "  images = np.expand_dims(images,axis=0)\n",
        "  prediction = model.predict(images)\n",
        "  print(fname)\n",
        "  if prediction == 0:\n",
        "    print('mask')\n",
        "  else:\n",
        "    print('no mask')"
      ],
      "execution_count": null,
      "outputs": []
    },
    {
      "cell_type": "code",
      "metadata": {
        "id": "kX_rlcBlBwh8"
      },
      "source": [
        "model.save('model.h5')"
      ],
      "execution_count": null,
      "outputs": []
    }
  ]
}